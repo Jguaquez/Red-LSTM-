{
  "nbformat": 4,
  "nbformat_minor": 0,
  "metadata": {
    "colab": {
      "provenance": [],
      "authorship_tag": "ABX9TyNWLSnx2sH+O+ygo0nQdn8l",
      "include_colab_link": true
    },
    "kernelspec": {
      "name": "python3",
      "display_name": "Python 3"
    },
    "language_info": {
      "name": "python"
    }
  },
  "cells": [
    {
      "cell_type": "markdown",
      "metadata": {
        "id": "view-in-github",
        "colab_type": "text"
      },
      "source": [
        "<a href=\"https://colab.research.google.com/github/Jguaquez/Red-LSTM-/blob/main/PROYECTO_PREDICCION_5_DIAS.ipynb\" target=\"_parent\"><img src=\"https://colab.research.google.com/assets/colab-badge.svg\" alt=\"Open In Colab\"/></a>"
      ]
    },
    {
      "cell_type": "markdown",
      "source": [],
      "metadata": {
        "id": "qaVVCS2d7dJL"
      }
    },
    {
      "cell_type": "code",
      "source": [
        "#SUBIR DATOS.\n",
        "from google.colab import files\n",
        "uploaded = files.upload()\n",
        "#de esta manera tendremos que subir el archivo y evitamos consumop de gpu adicional."
      ],
      "metadata": {
        "id": "Y6Z_nJUbSDvm",
        "colab": {
          "base_uri": "https://localhost:8080/",
          "height": 71
        },
        "outputId": "ed000676-4298-4bb5-af3b-bea3af2bbef3"
      },
      "execution_count": null,
      "outputs": [
        {
          "output_type": "display_data",
          "data": {
            "text/plain": [
              "<IPython.core.display.HTML object>"
            ],
            "text/html": [
              "\n",
              "     <input type=\"file\" id=\"files-fd8295e2-a1fe-40dc-9113-3dd4d2282f99\" name=\"files[]\" multiple disabled\n",
              "        style=\"border:none\" />\n",
              "     <output id=\"result-fd8295e2-a1fe-40dc-9113-3dd4d2282f99\">\n",
              "      Upload widget is only available when the cell has been executed in the\n",
              "      current browser session. Please rerun this cell to enable.\n",
              "      </output>\n",
              "      <script>// Copyright 2017 Google LLC\n",
              "//\n",
              "// Licensed under the Apache License, Version 2.0 (the \"License\");\n",
              "// you may not use this file except in compliance with the License.\n",
              "// You may obtain a copy of the License at\n",
              "//\n",
              "//      http://www.apache.org/licenses/LICENSE-2.0\n",
              "//\n",
              "// Unless required by applicable law or agreed to in writing, software\n",
              "// distributed under the License is distributed on an \"AS IS\" BASIS,\n",
              "// WITHOUT WARRANTIES OR CONDITIONS OF ANY KIND, either express or implied.\n",
              "// See the License for the specific language governing permissions and\n",
              "// limitations under the License.\n",
              "\n",
              "/**\n",
              " * @fileoverview Helpers for google.colab Python module.\n",
              " */\n",
              "(function(scope) {\n",
              "function span(text, styleAttributes = {}) {\n",
              "  const element = document.createElement('span');\n",
              "  element.textContent = text;\n",
              "  for (const key of Object.keys(styleAttributes)) {\n",
              "    element.style[key] = styleAttributes[key];\n",
              "  }\n",
              "  return element;\n",
              "}\n",
              "\n",
              "// Max number of bytes which will be uploaded at a time.\n",
              "const MAX_PAYLOAD_SIZE = 100 * 1024;\n",
              "\n",
              "function _uploadFiles(inputId, outputId) {\n",
              "  const steps = uploadFilesStep(inputId, outputId);\n",
              "  const outputElement = document.getElementById(outputId);\n",
              "  // Cache steps on the outputElement to make it available for the next call\n",
              "  // to uploadFilesContinue from Python.\n",
              "  outputElement.steps = steps;\n",
              "\n",
              "  return _uploadFilesContinue(outputId);\n",
              "}\n",
              "\n",
              "// This is roughly an async generator (not supported in the browser yet),\n",
              "// where there are multiple asynchronous steps and the Python side is going\n",
              "// to poll for completion of each step.\n",
              "// This uses a Promise to block the python side on completion of each step,\n",
              "// then passes the result of the previous step as the input to the next step.\n",
              "function _uploadFilesContinue(outputId) {\n",
              "  const outputElement = document.getElementById(outputId);\n",
              "  const steps = outputElement.steps;\n",
              "\n",
              "  const next = steps.next(outputElement.lastPromiseValue);\n",
              "  return Promise.resolve(next.value.promise).then((value) => {\n",
              "    // Cache the last promise value to make it available to the next\n",
              "    // step of the generator.\n",
              "    outputElement.lastPromiseValue = value;\n",
              "    return next.value.response;\n",
              "  });\n",
              "}\n",
              "\n",
              "/**\n",
              " * Generator function which is called between each async step of the upload\n",
              " * process.\n",
              " * @param {string} inputId Element ID of the input file picker element.\n",
              " * @param {string} outputId Element ID of the output display.\n",
              " * @return {!Iterable<!Object>} Iterable of next steps.\n",
              " */\n",
              "function* uploadFilesStep(inputId, outputId) {\n",
              "  const inputElement = document.getElementById(inputId);\n",
              "  inputElement.disabled = false;\n",
              "\n",
              "  const outputElement = document.getElementById(outputId);\n",
              "  outputElement.innerHTML = '';\n",
              "\n",
              "  const pickedPromise = new Promise((resolve) => {\n",
              "    inputElement.addEventListener('change', (e) => {\n",
              "      resolve(e.target.files);\n",
              "    });\n",
              "  });\n",
              "\n",
              "  const cancel = document.createElement('button');\n",
              "  inputElement.parentElement.appendChild(cancel);\n",
              "  cancel.textContent = 'Cancel upload';\n",
              "  const cancelPromise = new Promise((resolve) => {\n",
              "    cancel.onclick = () => {\n",
              "      resolve(null);\n",
              "    };\n",
              "  });\n",
              "\n",
              "  // Wait for the user to pick the files.\n",
              "  const files = yield {\n",
              "    promise: Promise.race([pickedPromise, cancelPromise]),\n",
              "    response: {\n",
              "      action: 'starting',\n",
              "    }\n",
              "  };\n",
              "\n",
              "  cancel.remove();\n",
              "\n",
              "  // Disable the input element since further picks are not allowed.\n",
              "  inputElement.disabled = true;\n",
              "\n",
              "  if (!files) {\n",
              "    return {\n",
              "      response: {\n",
              "        action: 'complete',\n",
              "      }\n",
              "    };\n",
              "  }\n",
              "\n",
              "  for (const file of files) {\n",
              "    const li = document.createElement('li');\n",
              "    li.append(span(file.name, {fontWeight: 'bold'}));\n",
              "    li.append(span(\n",
              "        `(${file.type || 'n/a'}) - ${file.size} bytes, ` +\n",
              "        `last modified: ${\n",
              "            file.lastModifiedDate ? file.lastModifiedDate.toLocaleDateString() :\n",
              "                                    'n/a'} - `));\n",
              "    const percent = span('0% done');\n",
              "    li.appendChild(percent);\n",
              "\n",
              "    outputElement.appendChild(li);\n",
              "\n",
              "    const fileDataPromise = new Promise((resolve) => {\n",
              "      const reader = new FileReader();\n",
              "      reader.onload = (e) => {\n",
              "        resolve(e.target.result);\n",
              "      };\n",
              "      reader.readAsArrayBuffer(file);\n",
              "    });\n",
              "    // Wait for the data to be ready.\n",
              "    let fileData = yield {\n",
              "      promise: fileDataPromise,\n",
              "      response: {\n",
              "        action: 'continue',\n",
              "      }\n",
              "    };\n",
              "\n",
              "    // Use a chunked sending to avoid message size limits. See b/62115660.\n",
              "    let position = 0;\n",
              "    do {\n",
              "      const length = Math.min(fileData.byteLength - position, MAX_PAYLOAD_SIZE);\n",
              "      const chunk = new Uint8Array(fileData, position, length);\n",
              "      position += length;\n",
              "\n",
              "      const base64 = btoa(String.fromCharCode.apply(null, chunk));\n",
              "      yield {\n",
              "        response: {\n",
              "          action: 'append',\n",
              "          file: file.name,\n",
              "          data: base64,\n",
              "        },\n",
              "      };\n",
              "\n",
              "      let percentDone = fileData.byteLength === 0 ?\n",
              "          100 :\n",
              "          Math.round((position / fileData.byteLength) * 100);\n",
              "      percent.textContent = `${percentDone}% done`;\n",
              "\n",
              "    } while (position < fileData.byteLength);\n",
              "  }\n",
              "\n",
              "  // All done.\n",
              "  yield {\n",
              "    response: {\n",
              "      action: 'complete',\n",
              "    }\n",
              "  };\n",
              "}\n",
              "\n",
              "scope.google = scope.google || {};\n",
              "scope.google.colab = scope.google.colab || {};\n",
              "scope.google.colab._files = {\n",
              "  _uploadFiles,\n",
              "  _uploadFilesContinue,\n",
              "};\n",
              "})(self);\n",
              "</script> "
            ]
          },
          "metadata": {}
        },
        {
          "output_type": "stream",
          "name": "stdout",
          "text": [
            "Saving temp meteorologia.xlsx to temp meteorologia.xlsx\n"
          ]
        }
      ]
    },
    {
      "cell_type": "markdown",
      "source": [
        "Este bloque de código carga los datos de dos hojas de un archivo Excel que contienen registros de temperatura tomados por dos sensores distintos (\"Temp_DH\" y \"temperatura_LP\"). Se define una función llamada clean_temperature que limpia y convierte los valores de temperatura, eliminando símbolos como \"°C\", reemplazando comas por puntos y convirtiendo los datos a tipo float. Luego, esta función se aplica a cada celda de ambas tablas con applymap. Posteriormente, se eliminan las filas y columnas que están completamente vacías y luego se eliminan las celdas individuales vacías para asegurar que los datos estén completamente limpios y listos para ser procesados por la red neuronal."
      ],
      "metadata": {
        "id": "puXzN2FM7qfM"
      }
    },
    {
      "cell_type": "code",
      "source": [
        "import pandas as pd\n",
        "import numpy as np\n",
        "from sklearn.preprocessing import MinMaxScaler\n",
        "from tensorflow.keras.models import Sequential\n",
        "from tensorflow.keras.layers import LSTM, Dense\n",
        "import matplotlib.pyplot as plt\n",
        "\n",
        "# Cargar y limpiar\n",
        "df_dh = pd.read_excel(\"temp meteorologia.xlsx\", sheet_name=\"Temp_DH\")\n",
        "df_lp = pd.read_excel(\"temp meteorologia.xlsx\", sheet_name=\"temperatura_LP\")\n",
        "\n",
        "def clean_temperature(value):\n",
        "    if isinstance(value, str):\n",
        "        value = value.replace(\"°C\", \"\").replace(\",\", \".\").strip()\n",
        "    try:\n",
        "        return float(value)\n",
        "    except:\n",
        "        return None\n",
        "\n",
        "df_dh_clean = df_dh.applymap(clean_temperature)\n",
        "df_lp_clean = df_lp.applymap(clean_temperature)\n",
        "\n",
        "df_dh_clean.dropna(axis=0, how='all', inplace=True)\n",
        "df_lp_clean.dropna(axis=0, how='all', inplace=True)\n",
        "df_dh_clean.dropna(axis=1, how='all', inplace=True)\n",
        "df_lp_clean.dropna(axis=1, how='all', inplace=True)\n",
        "df_dh_clean.dropna(inplace=True)\n",
        "df_lp_clean.dropna(inplace=True)\n",
        "\n"
      ],
      "metadata": {
        "id": "-mB_iNUHSDlM",
        "colab": {
          "base_uri": "https://localhost:8080/"
        },
        "outputId": "cd0fb99e-c2d7-4bc9-d9c3-87b8b9a9ad0d"
      },
      "execution_count": null,
      "outputs": [
        {
          "output_type": "stream",
          "name": "stderr",
          "text": [
            "<ipython-input-14-6150adefcff6>:20: FutureWarning: DataFrame.applymap has been deprecated. Use DataFrame.map instead.\n",
            "  df_dh_clean = df_dh.applymap(clean_temperature)\n",
            "<ipython-input-14-6150adefcff6>:21: FutureWarning: DataFrame.applymap has been deprecated. Use DataFrame.map instead.\n",
            "  df_lp_clean = df_lp.applymap(clean_temperature)\n"
          ]
        }
      ]
    },
    {
      "cell_type": "markdown",
      "source": [
        " convierte las columnas (que representan días) en filas, para que cada fila corresponda a un día de mediciones. Luego, reinicia los índices para mantener un orden limpio y secuencial. Como puede haber una diferencia en el número de días registrados entre ambos sensores, se ajusta el tamaño de ambos DataFrames al del más corto (min_len), eliminando los días sobrantes en caso de que uno tenga más filas que el otro. Esto garantiza que ambas fuentes de datos estén alineadas correctamente para poder combinarlas o procesarlas juntas más adelante."
      ],
      "metadata": {
        "id": "pkkh03H9727n"
      }
    },
    {
      "cell_type": "code",
      "source": [
        "# Transposición para tener días como filas\n",
        "df_dh_clean = df_dh_clean.T.reset_index(drop=True)\n",
        "df_lp_clean = df_lp_clean.T.reset_index(drop=True)\n",
        "\n",
        "# Igualar número de filas\n",
        "min_len = min(len(df_dh_clean), len(df_lp_clean))\n",
        "df_dh_clean = df_dh_clean.iloc[:min_len]\n",
        "df_lp_clean = df_lp_clean.iloc[:min_len]\n"
      ],
      "metadata": {
        "id": "TwW4uk5gSDgS"
      },
      "execution_count": null,
      "outputs": []
    },
    {
      "cell_type": "markdown",
      "source": [
        "ESTA ES UNA RED NEURONAL LSTM\n",
        "unimos los datos de ambos sensores (df_dh_clean y df_lp_clean) en un solo DataFrame, colocando las columnas de un sensor junto a las del otro. Luego, normaliza todos los valores al rango [0, 1] usando MinMaxScaler, lo cual es importante para mejorar el rendimiento y estabilidad del entrenamiento de la red neuronal. A continuación, se define una función create_sequences que crea secuencias de datos temporales: toma una ventana de timesteps días consecutivos como entrada (X) y los valores de los siguientes days_ahead días como objetivo de predicción (y). Finalmente, esta función se llama con una ventana de 3 días y un horizonte de predicción de 5 días, generando los arreglos X y y necesarios para entrenar la red neuronal LSTM."
      ],
      "metadata": {
        "id": "UUPhPfdn8Con"
      }
    },
    {
      "cell_type": "markdown",
      "source": [
        "Una LSTM (Long Short-Term Memory) es un tipo especial de red neuronal recurrente (RNN) diseñada para trabajar con secuencias de datos, como series temporales, texto o audio. A diferencia de una RNN simple, una LSTM puede recordar información importante durante periodos largos de tiempo y olvidar información irrelevante, gracias a una estructura interna basada en \"puertas\" (de entrada, olvido y salida)."
      ],
      "metadata": {
        "id": "CTAzok2D8ZET"
      }
    },
    {
      "cell_type": "markdown",
      "source": [
        "Ideal para Predecir datos futuros basados en datos pasados (como temperaturas, precios, señales, etc.)."
      ],
      "metadata": {
        "id": "zwQxsAAS8cdq"
      }
    },
    {
      "cell_type": "code",
      "source": [
        "#Unir y normalizar\n",
        "data = pd.concat([df_dh_clean, df_lp_clean], axis=1)\n",
        "scaler = MinMaxScaler()\n",
        "data_scaled = scaler.fit_transform(data)\n",
        "\n",
        "#crear ventanas para LSTM\n",
        "def create_sequences(data, timesteps=3, days_ahead=5):\n",
        "    X, y = [], []\n",
        "    for i in range(len(data) - timesteps - days_ahead + 1):\n",
        "        X.append(data[i:i+timesteps])\n",
        "        y.append(data[i+timesteps:i+timesteps+days_ahead])\n",
        "    return np.array(X), np.array(y)\n",
        "\n",
        "timesteps = 3\n",
        "days_ahead = 5\n",
        "X, y = create_sequences(data_scaled, timesteps, days_ahead)\n"
      ],
      "metadata": {
        "id": "BMqL67fzSDUU"
      },
      "execution_count": null,
      "outputs": []
    },
    {
      "cell_type": "markdown",
      "source": [
        "Este código construye y entrena una red neuronal LSTM para predecir temperaturas futuras basadas en datos pasados"
      ],
      "metadata": {
        "id": "Ct4TUkY38tNS"
      }
    },
    {
      "cell_type": "markdown",
      "source": [
        "n_features: cantidad de variables por tiempo (en tu caso, 2 sensores de temperatura).\n",
        "\n",
        "LSTM(64, ...): capa LSTM con 64 neuronas, que aprende patrones en secuencias de 3 días.\n",
        "\n",
        "input_shape=(timesteps, n_features): el modelo espera secuencias de 3 pasos (días), cada uno con 2 variables.\n",
        "\n",
        "Dense(...): capa final que entrega una predicción para los próximos days_ahead días (5), con una predicción por cada variable (5 × 2 = 10 valores en total).\n",
        "\n",
        "Se usa el optimizador Adam, muy efectivo para la mayoría de tareas.\n",
        "\n",
        "La pérdida es MSE (error cuadrático medio), adecuada para predicción de valores numéricos continuos como temperatura."
      ],
      "metadata": {
        "id": "fBwarQfO8wO6"
      }
    },
    {
      "cell_type": "code",
      "source": [
        "#Modelo LSTM\n",
        "n_features = X.shape[2]\n",
        "model = Sequential([\n",
        "    LSTM(64, activation='relu', input_shape=(timesteps, n_features)),\n",
        "    Dense(days_ahead * n_features)\n",
        "])\n",
        "model.compile(optimizer='adam', loss='mse')\n",
        "\n",
        "#Entrenar\n",
        "model.fit(X, y.reshape((y.shape[0], days_ahead * n_features)), epochs=100, verbose=0)\n"
      ],
      "metadata": {
        "colab": {
          "base_uri": "https://localhost:8080/"
        },
        "id": "cXm-pAViVUx8",
        "outputId": "b6bc6492-26ec-439d-ee99-b0c3e6c4e5aa"
      },
      "execution_count": null,
      "outputs": [
        {
          "output_type": "stream",
          "name": "stderr",
          "text": [
            "/usr/local/lib/python3.11/dist-packages/keras/src/layers/rnn/rnn.py:200: UserWarning: Do not pass an `input_shape`/`input_dim` argument to a layer. When using Sequential models, prefer using an `Input(shape)` object as the first layer in the model instead.\n",
            "  super().__init__(**kwargs)\n"
          ]
        },
        {
          "output_type": "execute_result",
          "data": {
            "text/plain": [
              "<keras.src.callbacks.history.History at 0x7d45cd7015d0>"
            ]
          },
          "metadata": {},
          "execution_count": 17
        }
      ]
    },
    {
      "cell_type": "markdown",
      "source": [
        "ealiza la predicción de los próximos 5 días usando el modelo LSTM ya entrenado, y luego desnormaliza y muestra los resultados de forma clara\n",
        "\n",
        "data_scaled[-timesteps:]: toma los últimos 3 días como ventana de entrada para predecir lo que sigue.\n",
        "\n",
        "reshape(...): ajusta la forma de los datos para que coincida con lo que espera la red (1 muestra, 3 días, 2 variables).\n",
        "\n",
        "model.predict(...): realiza la predicción.\n",
        "\n",
        "reshape(...): acomoda la predicción en forma de matriz con 5 filas (1 por día) y 2 columnas (una por variable: df_dh y df_lp)."
      ],
      "metadata": {
        "id": "U4q2Ss329XEl"
      }
    },
    {
      "cell_type": "code",
      "execution_count": null,
      "metadata": {
        "id": "qRHIzzLARY2F",
        "colab": {
          "base_uri": "https://localhost:8080/"
        },
        "outputId": "897ff779-335a-427f-ecee-70ee76e87b3d"
      },
      "outputs": [
        {
          "output_type": "stream",
          "name": "stdout",
          "text": [
            "\u001b[1m1/1\u001b[0m \u001b[32m━━━━━━━━━━━━━━━━━━━━\u001b[0m\u001b[37m\u001b[0m \u001b[1m0s\u001b[0m 40ms/step\n",
            "Predicción para los próximos 5 días (una columna por día y variable):\n",
            "   df_dh_dia1  df_dh_dia2  df_dh_dia3  df_dh_dia4  df_dh_dia5  df_lp_dia1  \\\n",
            "0   19.135683   20.091578   19.334305   20.670439   20.590061   19.697374   \n",
            "1   20.365551   20.940613   19.909388   21.018902   19.851519   19.707060   \n",
            "2   20.614370   21.315275   19.467131   19.767076   19.647020   18.882977   \n",
            "3   19.487207   20.327808   18.791800   20.508232   18.657995   18.996984   \n",
            "4   19.931561   21.656881   19.631451   20.596357   18.777353   18.642220   \n",
            "\n",
            "   df_lp_dia2  df_lp_dia3  df_lp_dia4  df_lp_dia5  \n",
            "0   18.095028   21.415497   21.067131   21.758369  \n",
            "1   17.615843   21.032711   21.099789   20.806044  \n",
            "2   19.068428   20.976513   20.964951   21.769884  \n",
            "3   17.579824   20.204899   20.514797   20.092041  \n",
            "4   18.459618   21.456203   20.200924   21.054218  \n"
          ]
        }
      ],
      "source": [
        "#Predicción\n",
        "last_window = data_scaled[-timesteps:].reshape((1, timesteps, n_features))\n",
        "prediction_scaled = model.predict(last_window)\n",
        "prediction_scaled = prediction_scaled.reshape((days_ahead, n_features))\n",
        "\n",
        "#Desnormalizar predicción\n",
        "predicted_future = scaler.inverse_transform(prediction_scaled)\n",
        "\n",
        "# Mostrar predicción\n",
        "\n",
        "columnas = [f\"df_dh_dia{i+1}\" for i in range(days_ahead)] + [f\"df_lp_dia{i+1}\" for i in range(days_ahead)]\n",
        "predicted_df = pd.DataFrame(predicted_future, columns=columnas)\n",
        "print(\"Predicción para los próximos 5 días (una columna por día y variable):\")\n",
        "print(predicted_df)\n"
      ]
    },
    {
      "cell_type": "markdown",
      "source": [
        "CODIGO PARA MOSTRAR GRAFICAS"
      ],
      "metadata": {
        "id": "-6Dv2-tZR8Os"
      }
    },
    {
      "cell_type": "code",
      "source": [
        "import matplotlib.pyplot as plt\n",
        "\n",
        "# Separar las columnas por variable\n",
        "df_dh_pred = predicted_df[[col for col in predicted_df.columns if \"df_dh\" in col]].iloc[0].values\n",
        "df_lp_pred = predicted_df[[col for col in predicted_df.columns if \"df_lp\" in col]].iloc[0].values\n",
        "\n",
        "dias = [f\"Día {i+1}\" for i in range(days_ahead)]\n",
        "\n",
        "# Crear gráfico\n",
        "plt.figure(figsize=(10, 5))\n",
        "\n",
        "# Plot df_dh\n",
        "plt.subplot(1, 2, 1)\n",
        "plt.plot(dias, df_dh_pred, marker='o')\n",
        "plt.title(\"Predicción df_dh (próximos 5 días)\")\n",
        "plt.xlabel(\"Día\")\n",
        "plt.ylabel(\"Temperatura\")\n",
        "plt.grid(True)\n",
        "\n",
        "# Plot df_lp\n",
        "plt.subplot(1, 2, 2)\n",
        "plt.plot(dias, df_lp_pred, marker='o', color='orange')\n",
        "plt.title(\"Predicción df_lp (próximos 5 días)\")\n",
        "plt.xlabel(\"Día\")\n",
        "plt.ylabel(\"Temperatura\")\n",
        "plt.grid(True)\n",
        "\n",
        "plt.tight_layout()\n",
        "plt.show()\n",
        "\n"
      ],
      "metadata": {
        "id": "fa6H4BXhR9sF",
        "colab": {
          "base_uri": "https://localhost:8080/",
          "height": 507
        },
        "outputId": "aaf76f66-ad5c-41f8-c6a0-84d2e45ce03f"
      },
      "execution_count": null,
      "outputs": [
        {
          "output_type": "display_data",
          "data": {
            "text/plain": [
              "<Figure size 1000x500 with 2 Axes>"
            ],
            "image/png": "[encoded data removed]"
          },
          "metadata": {}
        }
      ]
    }
  ]
}